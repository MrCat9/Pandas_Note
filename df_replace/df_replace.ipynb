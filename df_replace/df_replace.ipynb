{
 "cells": [
  {
   "cell_type": "code",
   "execution_count": 1,
   "id": "1d437e47-b115-4e44-bbba-7f913565a431",
   "metadata": {},
   "outputs": [],
   "source": [
    "import pandas as pd\n",
    "import numpy as np"
   ]
  },
  {
   "cell_type": "code",
   "execution_count": 2,
   "id": "0ac79ad4-ab20-4975-b456-77307d04a93e",
   "metadata": {},
   "outputs": [],
   "source": [
    "df = pd.read_csv('物流数据.csv')"
   ]
  },
  {
   "cell_type": "code",
   "execution_count": 3,
   "id": "9bbe15d5-42ca-407c-88ec-ad069ed8f85a",
   "metadata": {},
   "outputs": [
    {
     "data": {
      "text/plain": [
       "False    12106\n",
       "Name: 货运公司名称, dtype: int64"
      ]
     },
     "execution_count": 3,
     "metadata": {},
     "output_type": "execute_result"
    }
   ],
   "source": [
    "df['货运公司名称'].isna().value_counts()"
   ]
  },
  {
   "cell_type": "code",
   "execution_count": 4,
   "id": "64a5f9f0-f46e-42e7-8ffe-0ff82a55983f",
   "metadata": {},
   "outputs": [
    {
     "data": {
      "text/plain": [
       "德邦物流        4472\n",
       "顺丰快递        4396\n",
       "中通速递        2908\n",
       "百世汇通         146\n",
       "圆通速递         132\n",
       "天天速递          25\n",
       "韵达快递           9\n",
       "申通快递有限公司       8\n",
       "盛辉物流           4\n",
       "佳吉快运有限公司       4\n",
       "品骏             2\n",
       "Name: 货运公司名称, dtype: int64"
      ]
     },
     "execution_count": 4,
     "metadata": {},
     "output_type": "execute_result"
    }
   ],
   "source": [
    "df['货运公司名称'].value_counts()"
   ]
  },
  {
   "cell_type": "code",
   "execution_count": null,
   "id": "778d95df-c8ec-47d5-a1f7-7043468cd1c6",
   "metadata": {},
   "outputs": [],
   "source": []
  },
  {
   "cell_type": "code",
   "execution_count": 5,
   "id": "227720d4-ea3f-44fe-87ef-7fc6348b1f5b",
   "metadata": {},
   "outputs": [],
   "source": [
    "# pd.DataFrame.replace\n",
    "# 替换整个df，需要完全匹配"
   ]
  },
  {
   "cell_type": "code",
   "execution_count": 6,
   "id": "9fb42e0b-0e42-40d4-95b6-e8e3de32cb14",
   "metadata": {},
   "outputs": [
    {
     "data": {
      "text/plain": [
       "0        ???\n",
       "1        ???\n",
       "2        ???\n",
       "3        ???\n",
       "4        ???\n",
       "        ... \n",
       "12101    印刷品\n",
       "12102    印刷品\n",
       "12103    文件;\n",
       "12104    文件;\n",
       "12105    印刷品\n",
       "Name: 货物名称, Length: 12106, dtype: object"
      ]
     },
     "execution_count": 6,
     "metadata": {},
     "output_type": "execute_result"
    }
   ],
   "source": [
    "df.replace(np.nan, '???')['货物名称']\n",
    "# df.fillna"
   ]
  },
  {
   "cell_type": "code",
   "execution_count": null,
   "id": "6814fd53-35bd-4a37-af8b-b76d095e45d3",
   "metadata": {},
   "outputs": [],
   "source": []
  },
  {
   "cell_type": "code",
   "execution_count": 7,
   "id": "f897bebb-b253-4c76-a33b-2b8e73137d12",
   "metadata": {},
   "outputs": [],
   "source": [
    "# pd.Series.replace\n",
    "# 需要完全匹配，支持正则，支持根据字典替换多个值"
   ]
  },
  {
   "cell_type": "code",
   "execution_count": 8,
   "id": "43500c67-927a-4292-b8b0-3250d104d812",
   "metadata": {},
   "outputs": [
    {
     "data": {
      "text/plain": [
       "德邦物流        4472\n",
       "顺丰快递        4396\n",
       "sd          3065\n",
       "百世汇通         146\n",
       "韵达快递           9\n",
       "申通快递有限公司       8\n",
       "盛辉物流           4\n",
       "佳吉快运有限公司       4\n",
       "品骏             2\n",
       "Name: 货运公司名称, dtype: int64"
      ]
     },
     "execution_count": 8,
     "metadata": {},
     "output_type": "execute_result"
    }
   ],
   "source": [
    "df['货运公司名称'].replace(to_replace='.*?速递.*?', value='sd', regex=True).value_counts()  # 2908+132+25=3065"
   ]
  },
  {
   "cell_type": "code",
   "execution_count": 9,
   "id": "767e134a-7c52-41e9-8b41-743b9e76f183",
   "metadata": {},
   "outputs": [
    {
     "data": {
      "text/plain": [
       "德邦物流        4472\n",
       "kd          4405\n",
       "sd          3065\n",
       "百世汇通         146\n",
       "kd有限公司         8\n",
       "盛辉物流           4\n",
       "佳吉快运有限公司       4\n",
       "品骏             2\n",
       "Name: 货运公司名称, dtype: int64"
      ]
     },
     "execution_count": 9,
     "metadata": {},
     "output_type": "execute_result"
    }
   ],
   "source": [
    "df['货运公司名称'].replace(\n",
    "    {\n",
    "        '.*?速递.*?': 'sd',  # 2908+132+25=3065\n",
    "        '.*?快递.*?': 'kd',  # 4396+9=4405\n",
    "    }, \n",
    "    regex=True\n",
    ").value_counts()"
   ]
  },
  {
   "cell_type": "code",
   "execution_count": null,
   "id": "5ec53fc4-1df3-4aa0-a3cc-528fca7bb459",
   "metadata": {},
   "outputs": [],
   "source": []
  },
  {
   "cell_type": "code",
   "execution_count": 10,
   "id": "bfbd0ea5-5857-4332-8182-18c4e5f06996",
   "metadata": {},
   "outputs": [],
   "source": [
    "# pd.Series.str.replace\n",
    "# 支持部分匹配，支持正则，不支持根据字典替换多个值"
   ]
  },
  {
   "cell_type": "code",
   "execution_count": 11,
   "id": "483b8c52-0b6e-4df9-a995-e0bc77d6da62",
   "metadata": {},
   "outputs": [
    {
     "data": {
      "text/plain": [
       "德邦物流        4472\n",
       "顺丰kd        4396\n",
       "中通速递        2908\n",
       "百世汇通         146\n",
       "圆通速递         132\n",
       "天天速递          25\n",
       "韵达kd           9\n",
       "申通kd有限公司       8\n",
       "盛辉物流           4\n",
       "佳吉快运有限公司       4\n",
       "品骏             2\n",
       "Name: 货运公司名称, dtype: int64"
      ]
     },
     "execution_count": 11,
     "metadata": {},
     "output_type": "execute_result"
    }
   ],
   "source": [
    "df['货运公司名称'].str.replace(pat='快递', repl='kd', regex=True).value_counts()"
   ]
  },
  {
   "cell_type": "code",
   "execution_count": 12,
   "id": "4ba1a381-b01e-445d-916b-d16b168e6741",
   "metadata": {},
   "outputs": [
    {
     "data": {
      "text/plain": [
       "德邦物流        4472\n",
       "kd          4405\n",
       "中通速递        2908\n",
       "百世汇通         146\n",
       "圆通速递         132\n",
       "天天速递          25\n",
       "kd有限公司         8\n",
       "盛辉物流           4\n",
       "佳吉快运有限公司       4\n",
       "品骏             2\n",
       "Name: 货运公司名称, dtype: int64"
      ]
     },
     "execution_count": 12,
     "metadata": {},
     "output_type": "execute_result"
    }
   ],
   "source": [
    "df['货运公司名称'].str.replace(pat='.*?快递.*?', repl='kd', regex=True).value_counts()"
   ]
  },
  {
   "cell_type": "code",
   "execution_count": null,
   "id": "2d9c5374-d12f-4d64-b06b-c3ccad9635c2",
   "metadata": {},
   "outputs": [],
   "source": []
  },
  {
   "cell_type": "code",
   "execution_count": 13,
   "id": "68f1b2b7-4d03-4338-8283-0d26c9caada2",
   "metadata": {},
   "outputs": [],
   "source": [
    "# =\n",
    "# 赋值，创建新列"
   ]
  },
  {
   "cell_type": "code",
   "execution_count": 14,
   "id": "19acd2c1-e58e-4e81-9dba-c76be3fb6381",
   "metadata": {},
   "outputs": [],
   "source": [
    "df.loc[(df['运单编号'] >= '999000000000') & (df['货物名称'].str.contains('文件') == True), '999货运公司名称'] = '999圆通速递'"
   ]
  },
  {
   "cell_type": "code",
   "execution_count": 15,
   "id": "b851db75-6821-42ee-abc1-cb59637815df",
   "metadata": {},
   "outputs": [
    {
     "name": "stdout",
     "output_type": "stream",
     "text": [
      "(11, 22)\n",
      "(12, 22)\n"
     ]
    },
    {
     "data": {
      "text/plain": [
       "999圆通速递    12\n",
       "Name: 999货运公司名称, dtype: int64"
      ]
     },
     "execution_count": 15,
     "metadata": {},
     "output_type": "execute_result"
    }
   ],
   "source": [
    "print(df[(df['运单编号'] >= '999000000000') & (df['货物名称'] == '文件;')].shape)\n",
    "print(df[~df['999货运公司名称'].isna()].shape)\n",
    "df[(df['运单编号'] >= '999000000000') & (df['货物名称'].str.contains('文件') == True)]['999货运公司名称'].value_counts()"
   ]
  },
  {
   "cell_type": "code",
   "execution_count": null,
   "id": "fcdec461-98e9-44e3-846d-a75f8e4ad5de",
   "metadata": {},
   "outputs": [],
   "source": []
  },
  {
   "cell_type": "code",
   "execution_count": 16,
   "id": "764514b6-65b6-4ccb-a35a-9e9e35188fc1",
   "metadata": {},
   "outputs": [],
   "source": [
    "# pd.Series.update\n",
    "# 根据索引使用新的Series更新原Series，左对齐"
   ]
  },
  {
   "cell_type": "code",
   "execution_count": null,
   "id": "ca9a90e7-fd36-4819-bf9e-6f2ec44b6064",
   "metadata": {},
   "outputs": [],
   "source": []
  },
  {
   "cell_type": "code",
   "execution_count": 17,
   "id": "d14350c4-3bca-4be3-9aff-02cd03b19e9b",
   "metadata": {},
   "outputs": [],
   "source": [
    "# pd.Series.map\n",
    "# 需要完全匹配，不能使用正则，没匹配的会被替换成NaN"
   ]
  },
  {
   "cell_type": "code",
   "execution_count": 18,
   "id": "6d392032-9e99-4bd5-b18f-9fad0ef7f62a",
   "metadata": {},
   "outputs": [],
   "source": [
    "df['货运公司名称_map'] = df['货运公司名称'].map(\n",
    "    {\n",
    "        '德邦物流': '德邦',\n",
    "        '顺丰快递': '顺丰',\n",
    "        '中通速递': '中通',\n",
    "    }\n",
    ")"
   ]
  },
  {
   "cell_type": "code",
   "execution_count": 19,
   "id": "1e877c09-0449-472d-8c46-5f6e2c11696b",
   "metadata": {},
   "outputs": [
    {
     "data": {
      "text/plain": [
       "德邦    4472\n",
       "顺丰    4396\n",
       "中通    2908\n",
       "Name: 货运公司名称_map, dtype: int64"
      ]
     },
     "execution_count": 19,
     "metadata": {},
     "output_type": "execute_result"
    }
   ],
   "source": [
    "df['货运公司名称_map'].value_counts()"
   ]
  },
  {
   "cell_type": "code",
   "execution_count": 20,
   "id": "a8f02721-79ed-49f4-9a7c-f2a19bb270c7",
   "metadata": {},
   "outputs": [
    {
     "data": {
      "text/plain": [
       "False    11776\n",
       "True       330\n",
       "Name: 货运公司名称_map, dtype: int64"
      ]
     },
     "execution_count": 20,
     "metadata": {},
     "output_type": "execute_result"
    }
   ],
   "source": [
    "df['货运公司名称_map'].isna().value_counts()"
   ]
  },
  {
   "cell_type": "code",
   "execution_count": null,
   "id": "075cf404-030a-4d46-a4e5-60e987e83d65",
   "metadata": {},
   "outputs": [],
   "source": []
  },
  {
   "cell_type": "code",
   "execution_count": null,
   "id": "74865dce-1161-4ee8-ba84-2845518a260b",
   "metadata": {},
   "outputs": [],
   "source": []
  }
 ],
 "metadata": {
  "kernelspec": {
   "display_name": "tmp_py37",
   "language": "python",
   "name": "tmp_py37"
  },
  "language_info": {
   "codemirror_mode": {
    "name": "ipython",
    "version": 3
   },
   "file_extension": ".py",
   "mimetype": "text/x-python",
   "name": "python",
   "nbconvert_exporter": "python",
   "pygments_lexer": "ipython3",
   "version": "3.7.9"
  }
 },
 "nbformat": 4,
 "nbformat_minor": 5
}
